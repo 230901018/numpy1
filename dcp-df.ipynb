{
 "cells": [
  {
   "cell_type": "code",
   "execution_count": 13,
   "id": "62e3c7f8",
   "metadata": {},
   "outputs": [
    {
     "name": "stdout",
     "output_type": "stream",
     "text": [
      "        one       two     three\n",
      "a -0.249775 -0.247854 -1.569104\n",
      "b       NaN       NaN       NaN\n",
      "c -0.146482  3.185597  0.194937\n",
      "d  0.870410  0.709152 -1.074632\n",
      "e       NaN       NaN       NaN\n",
      "f  0.012085  2.037918  1.829639\n"
     ]
    }
   ],
   "source": [
    "import pandas as pd\n",
    "import numpy as np\n",
    "df=pd.DataFrame(np.random.randn(4,3),index=['a','c','d','f'],columns=['one','two','three'])\n",
    "df=df.reindex(['a','b','c','d','e','f'])\n",
    "print(df)"
   ]
  },
  {
   "cell_type": "code",
   "execution_count": 14,
   "id": "ea302b4e",
   "metadata": {},
   "outputs": [
    {
     "name": "stdout",
     "output_type": "stream",
     "text": [
      "        one       two     three\n",
      "a -0.249775 -0.247854 -1.569104\n",
      "c -0.146482  3.185597  0.194937\n",
      "d  0.870410  0.709152 -1.074632\n",
      "f  0.012085  2.037918  1.829639\n"
     ]
    }
   ],
   "source": [
    "print(df.dropna())"
   ]
  },
  {
   "cell_type": "code",
   "execution_count": 16,
   "id": "b69cf514",
   "metadata": {},
   "outputs": [
    {
     "name": "stdout",
     "output_type": "stream",
     "text": [
      "        one       two     three\n",
      "a -0.744132 -1.573117 -2.370572\n",
      "b       NaN       NaN       NaN\n",
      "c -0.051315  1.189836  0.372194\n",
      "        one       two     three\n",
      "a -0.744132 -1.573117 -2.370572\n",
      "b  0.000000  0.000000  0.000000\n",
      "c -0.051315  1.189836  0.372194\n"
     ]
    }
   ],
   "source": [
    "#nan filled with zeros\n",
    "df=pd.DataFrame(np.random.randn(4,3),index=['a','c','d','f'],columns=['one','two','three'])\n",
    "df=df.reindex(['a','b','c'])\n",
    "print(df)\n",
    "print(df.fillna(0))"
   ]
  },
  {
   "cell_type": "code",
   "execution_count": 21,
   "id": "db6ec2d6",
   "metadata": {},
   "outputs": [
    {
     "name": "stdout",
     "output_type": "stream",
     "text": [
      "   one  two\n",
      "0   10   60\n",
      "1   20   70\n",
      "2   30   80\n",
      "3   40    0\n",
      "4   50   10\n",
      "   one  two\n",
      "0    5   60\n",
      "1   20   70\n",
      "2   30    3\n",
      "3   40    0\n",
      "4   50    5\n"
     ]
    }
   ],
   "source": [
    "#replace\n",
    "df=pd.DataFrame({'one':[10,20,30,40,50],'two':[60,70,80,0,10]})\n",
    "print(df)\n",
    "print(df.replace({10:5,80:3}))"
   ]
  },
  {
   "cell_type": "code",
   "execution_count": 23,
   "id": "eadfdb6f",
   "metadata": {},
   "outputs": [
    {
     "name": "stdout",
     "output_type": "stream",
     "text": [
      "oringinal dataframe:\n",
      "         one       two     three\n",
      "a -1.354487  0.276545  0.765565\n",
      "b       NaN       NaN       NaN\n",
      "c  0.900728  1.432961  0.031789\n",
      "d -0.905993  0.119667  0.803325\n",
      "e       NaN       NaN       NaN\n",
      "f -0.296464 -0.326881  0.383388\n",
      "\n",
      "Nan with true fill:\n",
      "\n",
      "a    False\n",
      "b     True\n",
      "c    False\n",
      "d    False\n",
      "e     True\n",
      "f    False\n",
      "Name: one, dtype: bool\n"
     ]
    }
   ],
   "source": [
    "df=pd.DataFrame(np.random.randn(4,3),index=['a','c','d','f'],columns=['one','two','three'])\n",
    "df=df.reindex(['a','b','c','d','e','f'])\n",
    "print(\"oringinal dataframe:\\n\",df)\n",
    "print(\"\\nNan with true fill:\\n\")\n",
    "print(df['one'].isnull())"
   ]
  },
  {
   "cell_type": "code",
   "execution_count": 25,
   "id": "9c632604",
   "metadata": {},
   "outputs": [
    {
     "name": "stdout",
     "output_type": "stream",
     "text": [
      "oringinal dataframe:\n",
      "         one       two     three\n",
      "a -0.538940  1.029646  0.600280\n",
      "b       NaN       NaN       NaN\n",
      "c -1.210043  0.510899 -1.427049\n",
      "d  0.127805 -1.130778  0.139868\n",
      "e       NaN       NaN       NaN\n",
      "f  0.170336 -2.369653 -0.725365\n",
      "\n",
      "Nan filled with background values:\n",
      "\n",
      "        one       two     three\n",
      "a -0.538940  1.029646  0.600280\n",
      "b -1.210043  0.510899 -1.427049\n",
      "c -1.210043  0.510899 -1.427049\n",
      "d  0.127805 -1.130778  0.139868\n",
      "e  0.170336 -2.369653 -0.725365\n",
      "f  0.170336 -2.369653 -0.725365\n"
     ]
    }
   ],
   "source": [
    "df=pd.DataFrame(np.random.randn(4,3),index=['a','c','d','f'],columns=['one','two','three'])\n",
    "df=df.reindex(['a','b','c','d','e','f'])\n",
    "print(\"oringinal dataframe:\\n\",df)\n",
    "print(\"\\nNan filled with background values:\\n\")\n",
    "print(df.fillna(method='bfill'))"
   ]
  },
  {
   "cell_type": "code",
   "execution_count": 27,
   "id": "965c1d38",
   "metadata": {},
   "outputs": [
    {
     "name": "stdout",
     "output_type": "stream",
     "text": [
      "oringinal dataframe:\n",
      "         one       two     three\n",
      "a -0.107699 -0.388369  0.216923\n",
      "b       NaN       NaN       NaN\n",
      "c -0.366090 -2.302029  0.250726\n",
      "d  0.255266  1.039771  0.415017\n",
      "e       NaN       NaN       NaN\n",
      "f  1.839896  0.243569  1.144258\n",
      "\n",
      "Nan filled with forward values:\n",
      "\n",
      "        one       two     three\n",
      "a -0.107699 -0.388369  0.216923\n",
      "b -0.107699 -0.388369  0.216923\n",
      "c -0.366090 -2.302029  0.250726\n",
      "d  0.255266  1.039771  0.415017\n",
      "e  0.255266  1.039771  0.415017\n",
      "f  1.839896  0.243569  1.144258\n"
     ]
    }
   ],
   "source": [
    "df=pd.DataFrame(np.random.randn(4,3),index=['a','c','d','f'],columns=['one','two','three'])\n",
    "df=df.reindex(['a','b','c','d','e','f'])\n",
    "print(\"oringinal dataframe:\\n\",df)\n",
    "print(\"\\nNan filled with forward values:\\n\")\n",
    "print(df.fillna(method='ffill'))"
   ]
  },
  {
   "cell_type": "code",
   "execution_count": null,
   "id": "ea6b75de",
   "metadata": {},
   "outputs": [],
   "source": []
  },
  {
   "cell_type": "code",
   "execution_count": null,
   "id": "515440d3",
   "metadata": {},
   "outputs": [],
   "source": []
  }
 ],
 "metadata": {
  "kernelspec": {
   "display_name": "Python 3 (ipykernel)",
   "language": "python",
   "name": "python3"
  },
  "language_info": {
   "codemirror_mode": {
    "name": "ipython",
    "version": 3
   },
   "file_extension": ".py",
   "mimetype": "text/x-python",
   "name": "python",
   "nbconvert_exporter": "python",
   "pygments_lexer": "ipython3",
   "version": "3.11.5"
  }
 },
 "nbformat": 4,
 "nbformat_minor": 5
}
