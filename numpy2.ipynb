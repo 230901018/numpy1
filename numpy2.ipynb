{
 "cells": [
  {
   "cell_type": "code",
   "execution_count": 9,
   "id": "fa5e8257",
   "metadata": {},
   "outputs": [
    {
     "name": "stdout",
     "output_type": "stream",
     "text": [
      "[3 4 5 6]\n"
     ]
    }
   ],
   "source": [
    "import numpy as np\n",
    "arr=np.array([1,2,3,4,5,6,7,8,9])\n",
    "sli=arr[2:6]\n",
    "print(sli)"
   ]
  },
  {
   "cell_type": "code",
   "execution_count": 11,
   "id": "7607f23e",
   "metadata": {},
   "outputs": [
    {
     "name": "stdout",
     "output_type": "stream",
     "text": [
      "[3 5 7]\n"
     ]
    }
   ],
   "source": [
    "import numpy as np\n",
    "arr=np.array([1,2,3,4,5,6,7,8,9])\n",
    "sli=arr[2:8:2]\n",
    "print(sli)"
   ]
  },
  {
   "cell_type": "code",
   "execution_count": 12,
   "id": "30bc1146",
   "metadata": {},
   "outputs": [
    {
     "name": "stdout",
     "output_type": "stream",
     "text": [
      "[1 3 5 7 9]\n"
     ]
    }
   ],
   "source": [
    "import numpy as np\n",
    "arr=np.array([1,2,3,4,5,6,7,8,9])\n",
    "sli=arr[::2]\n",
    "print(sli)"
   ]
  },
  {
   "cell_type": "code",
   "execution_count": 13,
   "id": "2586c8f3",
   "metadata": {},
   "outputs": [
    {
     "name": "stdout",
     "output_type": "stream",
     "text": [
      "[9 8 7 6 5 4 3 2 1]\n"
     ]
    }
   ],
   "source": [
    "import numpy as np\n",
    "arr=np.array([1,2,3,4,5,6,7,8,9])\n",
    "sli=arr[::-1]\n",
    "print(sli)"
   ]
  },
  {
   "cell_type": "code",
   "execution_count": 15,
   "id": "87102458",
   "metadata": {},
   "outputs": [
    {
     "name": "stdout",
     "output_type": "stream",
     "text": [
      "[[10 15]\n",
      " [25 30]]\n"
     ]
    }
   ],
   "source": [
    "import numpy as np\n",
    "b=np.array([[5,10,15],[20,25,30],[35,40,45]])\n",
    "new=b[0:2,1:3]\n",
    "print(new)\n"
   ]
  },
  {
   "cell_type": "code",
   "execution_count": 27,
   "id": "d7649eb9",
   "metadata": {},
   "outputs": [
    {
     "name": "stdout",
     "output_type": "stream",
     "text": [
      "[ 5 20 35]\n",
      "[35 40 45]\n"
     ]
    }
   ],
   "source": [
    "col=b[:,0]\n",
    "row=b[2,]\n",
    "print(col)\n",
    "print(row)"
   ]
  },
  {
   "cell_type": "code",
   "execution_count": 26,
   "id": "7f51d541",
   "metadata": {},
   "outputs": [
    {
     "name": "stdout",
     "output_type": "stream",
     "text": [
      "5\n",
      "30\n"
     ]
    }
   ],
   "source": [
    "print(b[0,0])\n",
    "print(b[1,2])"
   ]
  },
  {
   "cell_type": "code",
   "execution_count": 24,
   "id": "ae7cf448",
   "metadata": {},
   "outputs": [
    {
     "name": "stdout",
     "output_type": "stream",
     "text": [
      "6\n",
      "21\n"
     ]
    }
   ],
   "source": [
    "c=np.array([3,6,9,12,15,18,21])\n",
    "print(c[1])"
   ]
  },
  {
   "cell_type": "code",
   "execution_count": 25,
   "id": "fe804e91",
   "metadata": {},
   "outputs": [
    {
     "name": "stdout",
     "output_type": "stream",
     "text": [
      "18\n"
     ]
    }
   ],
   "source": [
    "print(c[-2])"
   ]
  },
  {
   "cell_type": "code",
   "execution_count": 28,
   "id": "ac785c7c",
   "metadata": {},
   "outputs": [
    {
     "name": "stdout",
     "output_type": "stream",
     "text": [
      "[ 6  9 12 15]\n"
     ]
    }
   ],
   "source": [
    "print(c[1:5])"
   ]
  },
  {
   "cell_type": "code",
   "execution_count": 31,
   "id": "7a388941",
   "metadata": {},
   "outputs": [
    {
     "name": "stdout",
     "output_type": "stream",
     "text": [
      "[15 18 21]\n"
     ]
    }
   ],
   "source": [
    "print(c[c>12])"
   ]
  },
  {
   "cell_type": "code",
   "execution_count": 35,
   "id": "773bfb21",
   "metadata": {},
   "outputs": [
    {
     "name": "stdout",
     "output_type": "stream",
     "text": [
      "[[10 20 30  5 15 25]\n",
      " [40 50 60 35 45 55]]\n"
     ]
    }
   ],
   "source": [
    "x=np.array([[10,20,30],[40,50,60]])\n",
    "y=np.array([[5,15,25],[35,45,55]])\n",
    "res=np.hstack((x,y))\n",
    "print(res)"
   ]
  },
  {
   "cell_type": "code",
   "execution_count": 37,
   "id": "fc52679c",
   "metadata": {},
   "outputs": [
    {
     "name": "stdout",
     "output_type": "stream",
     "text": [
      "[[10 20 30]\n",
      " [40 50 60]\n",
      " [ 5 15 25]\n",
      " [35 45 55]]\n"
     ]
    }
   ],
   "source": [
    "res=np.vstack((x,y))\n",
    "print(res)"
   ]
  },
  {
   "cell_type": "code",
   "execution_count": 38,
   "id": "241b235a",
   "metadata": {},
   "outputs": [
    {
     "name": "stdout",
     "output_type": "stream",
     "text": [
      "[[[10  5]\n",
      "  [20 15]\n",
      "  [30 25]]\n",
      "\n",
      " [[40 35]\n",
      "  [50 45]\n",
      "  [60 55]]]\n"
     ]
    }
   ],
   "source": [
    "res=np.dstack((x,y))\n",
    "print(res)"
   ]
  },
  {
   "cell_type": "code",
   "execution_count": 46,
   "id": "ea459484",
   "metadata": {},
   "outputs": [
    {
     "name": "stdout",
     "output_type": "stream",
     "text": [
      "[array([1, 2, 3]), array([4, 5, 6]), array([7, 8, 9])]\n"
     ]
    }
   ],
   "source": [
    "z=np.array_split(arr,3)\n",
    "print(z)"
   ]
  },
  {
   "cell_type": "code",
   "execution_count": 49,
   "id": "9581631b",
   "metadata": {},
   "outputs": [
    {
     "name": "stdout",
     "output_type": "stream",
     "text": [
      "[array([1, 2, 3, 4, 5]), array([6, 7, 8, 9])]\n"
     ]
    }
   ],
   "source": [
    "z=np.array_split(arr,2)\n",
    "print(z)"
   ]
  },
  {
   "cell_type": "code",
   "execution_count": null,
   "id": "b4a7baaa",
   "metadata": {},
   "outputs": [],
   "source": []
  },
  {
   "cell_type": "code",
   "execution_count": null,
   "id": "023fc387",
   "metadata": {},
   "outputs": [],
   "source": []
  },
  {
   "cell_type": "code",
   "execution_count": null,
   "id": "36b6b8ab",
   "metadata": {},
   "outputs": [],
   "source": []
  },
  {
   "cell_type": "code",
   "execution_count": null,
   "id": "03bb2ef2",
   "metadata": {},
   "outputs": [],
   "source": []
  }
 ],
 "metadata": {
  "kernelspec": {
   "display_name": "Python 3 (ipykernel)",
   "language": "python",
   "name": "python3"
  },
  "language_info": {
   "codemirror_mode": {
    "name": "ipython",
    "version": 3
   },
   "file_extension": ".py",
   "mimetype": "text/x-python",
   "name": "python",
   "nbconvert_exporter": "python",
   "pygments_lexer": "ipython3",
   "version": "3.9.7"
  }
 },
 "nbformat": 4,
 "nbformat_minor": 5
}
