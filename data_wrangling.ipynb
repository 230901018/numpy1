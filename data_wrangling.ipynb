{
 "cells": [
  {
   "cell_type": "code",
   "execution_count": 4,
   "id": "6167fe27",
   "metadata": {},
   "outputs": [
    {
     "name": "stdout",
     "output_type": "stream",
     "text": [
      "  name  age\n",
      "0  abc   20\n",
      "1  def   21\n",
      "2  ghi   22\n",
      "   qualified\n",
      "0       True\n",
      "1       True\n",
      "2      False\n",
      "  name  age  qualified\n",
      "0  abc   20       True\n",
      "1  def   21       True\n",
      "2  ghi   22      False\n"
     ]
    }
   ],
   "source": [
    "import pandas as pd\n",
    "d1={\"name\":[\"abc\",\"def\",\"ghi\"],\"age\":[20,21,22]}\n",
    "d2={\"qualified\":[True,True,False]}\n",
    "df1=pd.DataFrame(d1)\n",
    "print(df1)\n",
    "df2=pd.DataFrame(d2)\n",
    "print(df2)\n",
    "new=df1.join(df2)\n",
    "print(new)"
   ]
  },
  {
   "cell_type": "code",
   "execution_count": 14,
   "id": "cb7439c2",
   "metadata": {
    "scrolled": false
   },
   "outputs": [
    {
     "name": "stdout",
     "output_type": "stream",
     "text": [
      "  name  age\n",
      "0  aaa   20\n",
      "1  bbb   25\n",
      "2  ccc   22\n",
      "  name  age\n",
      "0  ddd   22\n",
      "1  eee   24\n",
      "2  fff   25\n",
      "  name_x  age name_y\n",
      "0    ddd   22    ccc\n",
      "1    fff   25    bbb\n"
     ]
    }
   ],
   "source": [
    "f1={\"name\":[\"aaa\",\"bbb\",\"ccc\"],\"age\":[20,25,22]}\n",
    "f2={\"name\":[\"ddd\",\"eee\",\"fff\"],\"age\":[22,24,25]}\n",
    "df1=pd.DataFrame(f1)\n",
    "print(df1)\n",
    "df2=pd.DataFrame(f2)\n",
    "print(df2)\n",
    "new1=df2.merge(df1,on='age')\n",
    "print(new1)"
   ]
  },
  {
   "cell_type": "code",
   "execution_count": 22,
   "id": "a94f8f22",
   "metadata": {},
   "outputs": [
    {
     "name": "stdout",
     "output_type": "stream",
     "text": [
      "  team  points  assits  rebounds\n",
      "0    A      90      12        46\n",
      "1    B      56      31        54\n",
      "2    C      76      23        23\n",
      "3    D      42      44        75\n",
      "   team  variable  value\n",
      "0     A    points     90\n",
      "1     B    points     56\n",
      "2     C    points     76\n",
      "3     D    points     42\n",
      "4     A    assits     12\n",
      "5     B    assits     31\n",
      "6     C    assits     23\n",
      "7     D    assits     44\n",
      "8     A  rebounds     46\n",
      "9     B  rebounds     54\n",
      "10    C  rebounds     23\n",
      "11    D  rebounds     75\n"
     ]
    }
   ],
   "source": [
    "#reshape\n",
    "df=pd.DataFrame({\"team\":['A','B','C','D'],\"points\":[90,56,76,42],\"assits\":[12,31,23,44],\"rebounds\":[46,54,23,75]})\n",
    "print(df)\n",
    "df=pd.melt(df,id_vars='team',value_vars=['points','assits','rebounds'])\n",
    "print(df)"
   ]
  },
  {
   "cell_type": "code",
   "execution_count": null,
   "id": "37bb983b",
   "metadata": {},
   "outputs": [],
   "source": []
  }
 ],
 "metadata": {
  "kernelspec": {
   "display_name": "Python 3 (ipykernel)",
   "language": "python",
   "name": "python3"
  },
  "language_info": {
   "codemirror_mode": {
    "name": "ipython",
    "version": 3
   },
   "file_extension": ".py",
   "mimetype": "text/x-python",
   "name": "python",
   "nbconvert_exporter": "python",
   "pygments_lexer": "ipython3",
   "version": "3.10.9"
  }
 },
 "nbformat": 4,
 "nbformat_minor": 5
}
