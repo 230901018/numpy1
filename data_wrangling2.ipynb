{
 "cells": [
  {
   "cell_type": "code",
   "execution_count": 4,
   "id": "44fbf4d8",
   "metadata": {},
   "outputs": [
    {
     "name": "stdout",
     "output_type": "stream",
     "text": [
      "Original DataFrame:\n",
      "   Name  Age Gender Marks\n",
      "0  aaa   20      M    90\n",
      "1  bbb   18      F    76\n",
      "2  ccc   19      M   NaN\n",
      "3  ddd   20      M    74\n",
      "4  eee   18      F    65\n",
      "5  fff   17      F   NaN\n",
      "6  ggg   19      F    71\n",
      "\n",
      "Replacing NaN with average marks:\n",
      "   Name  Age Gender      Marks\n",
      "0  aaa   20      M  90.000000\n",
      "1  bbb   18      F  76.000000\n",
      "2  ccc   19      M  20.066667\n",
      "3  ddd   20      M  74.000000\n",
      "4  eee   18      F  65.000000\n",
      "5  fff   17      F  20.066667\n",
      "6  ggg   19      F  71.000000\n"
     ]
    }
   ],
   "source": [
    "import pandas as pd\n",
    "d={'Name':['aaa','bbb','ccc','ddd','eee','fff','ggg'],'Age':[20,18,19,20,18,17,19],'Gender':['M','F','M','M','F','F','F'],'Marks':[90,76,'NaN',74,65,'NaN',71]}\n",
    "df=pd.DataFrame(d)\n",
    "print(\"Original DataFrame:\\n\",df)\n",
    "c=avg=0\n",
    "for ele in df['Marks']:\n",
    "    if str(ele).isnumeric():\n",
    "        c+=1\n",
    "        avg+=ele\n",
    "        avg/=c\n",
    "df=df.replace(to_replace=\"NaN\",value=avg)\n",
    "print(\"\\nReplacing NaN with average marks:\\n\",df)"
   ]
  },
  {
   "cell_type": "code",
   "execution_count": 5,
   "id": "a0a3f350",
   "metadata": {},
   "outputs": [
    {
     "name": "stdout",
     "output_type": "stream",
     "text": [
      "\n",
      "Filtering and Dropping func:\n",
      "   Name Gender  Marks\n",
      "0  aaa      M   90.0\n",
      "1  bbb      F   76.0\n"
     ]
    }
   ],
   "source": [
    "df=df[df['Marks']>=75]\n",
    "df=df.drop(['Age'],axis=1)\n",
    "print(\"\\nFiltering and Dropping func:\\n\",df)"
   ]
  },
  {
   "cell_type": "code",
   "execution_count": 7,
   "id": "3bf88103",
   "metadata": {},
   "outputs": [
    {
     "name": "stdout",
     "output_type": "stream",
     "text": [
      "\n",
      "Original DataFrame 1:\n",
      "   Name subject  Marks\n",
      "1  aaa    sub1     98\n",
      "2  bbb    sub2     95\n",
      "3  ccc    sub4     96\n",
      "4  ddd    sub6     92\n",
      "5  eee    sub5     88\n",
      "\n",
      "Original DataFrame 2:\n",
      "   Name subject  Marks\n",
      "1  fff    sub2     86\n",
      "2  ggg    sub4     95\n",
      "3  hhh    sub3     87\n",
      "4  iii    sub6     99\n",
      "5  jjj    sub5     91\n",
      "  Name subject  Marks\n",
      "1  aaa    sub1     98\n",
      "2  bbb    sub2     95\n",
      "3  ccc    sub4     96\n",
      "4  ddd    sub6     92\n",
      "5  eee    sub5     88\n",
      "1  fff    sub2     86\n",
      "2  ggg    sub4     95\n",
      "3  hhh    sub3     87\n",
      "4  iii    sub6     99\n",
      "5  jjj    sub5     91\n"
     ]
    }
   ],
   "source": [
    "one=pd.DataFrame({'Name':['aaa','bbb','ccc','ddd','eee'],'subject':['sub1','sub2','sub4','sub6','sub5'],'Marks':[98,95,96,92,88]},index=[1,2,3,4,5])\n",
    "two=pd.DataFrame({'Name':['fff','ggg','hhh','iii','jjj'],'subject':['sub2','sub4','sub3','sub6','sub5'],'Marks':[86,95,87,99,91]},\n",
    "index=[1,2,3,4,5])\n",
    "print(\"\\nOriginal DataFrame 1:\\n\",one)\n",
    "print(\"\\nOriginal DataFrame 2:\\n\",two)\n",
    "print(pd.concat([one,two]))"
   ]
  },
  {
   "cell_type": "code",
   "execution_count": null,
   "id": "7bfd5b78",
   "metadata": {},
   "outputs": [],
   "source": []
  },
  {
   "cell_type": "code",
   "execution_count": null,
   "id": "3f609638",
   "metadata": {},
   "outputs": [],
   "source": []
  },
  {
   "cell_type": "code",
   "execution_count": null,
   "id": "f44c4f09",
   "metadata": {},
   "outputs": [],
   "source": []
  }
 ],
 "metadata": {
  "kernelspec": {
   "display_name": "Python 3 (ipykernel)",
   "language": "python",
   "name": "python3"
  },
  "language_info": {
   "codemirror_mode": {
    "name": "ipython",
    "version": 3
   },
   "file_extension": ".py",
   "mimetype": "text/x-python",
   "name": "python",
   "nbconvert_exporter": "python",
   "pygments_lexer": "ipython3",
   "version": "3.11.5"
  }
 },
 "nbformat": 4,
 "nbformat_minor": 5
}
